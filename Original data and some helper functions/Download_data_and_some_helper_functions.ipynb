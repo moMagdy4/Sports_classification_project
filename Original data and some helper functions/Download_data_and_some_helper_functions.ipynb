{
  "cells": [
    {
      "cell_type": "markdown",
      "source": [
        "***To download train data***\n",
        "\n",
        "---\n",
        "\n"
      ],
      "metadata": {
        "id": "JvM1tMBLTKpD"
      }
    },
    {
      "cell_type": "markdown",
      "source": [
        " \n",
        "[***Train data***](https://drive.google.com/file/d/1Lku_hmOXj5pbr21vhMoB-5tbsPruddyw/view?usp=share_link)"
      ],
      "metadata": {
        "id": "KpMAl2M9Sh2W"
      }
    },
    {
      "cell_type": "markdown",
      "source": [
        "***To download test data***\n",
        "\n",
        "---\n",
        "\n"
      ],
      "metadata": {
        "id": "ZXJFf_97i-w2"
      }
    },
    {
      "cell_type": "markdown",
      "source": [
        " \n",
        "[***Test data***](https://drive.google.com/file/d/1MAW9S4UQhnPlPWxmkju8SwFxCWI3dBQk/view?usp=share_link)"
      ],
      "metadata": {
        "id": "xfVJEB8Si-w2"
      }
    },
    {
      "cell_type": "code",
      "execution_count": null,
      "metadata": {
        "id": "32LbdzZiIybg"
      },
      "outputs": [],
      "source": [
        "import tensorflow as tf\n",
        "import numpy as np\n",
        "import matplotlib.pyplot as plt\n",
        "import os\n",
        "import pandas as pd\n",
        "from google.colab import files\n",
        "import cv2\n",
        "from PIL import Image\n",
        "from google.colab.patches import cv2_imshow\n",
        "\n",
        "from sklearn.model_selection import train_test_split\n",
        "from tensorflow.keras.preprocessing.image import ImageDataGenerator,array_to_img,img_to_array\n"
      ]
    },
    {
      "cell_type": "markdown",
      "source": [
        "***Make subfolder to every class***\n",
        "\n",
        "---\n",
        "\n"
      ],
      "metadata": {
        "id": "hZMMoo94Usyz"
      }
    },
    {
      "cell_type": "code",
      "source": [
        "#------------------>run once\n",
        "#Adding data to list\n",
        "def Add_data_To_list(directory):\n",
        "  names_of_data=[]\n",
        "  for image in os.listdir(directory):\n",
        "    names_of_data.append(image)\n",
        "  return names_of_data\n",
        "\n",
        "#make subfolders\n",
        "\n",
        "def Make_subfolder(directory):\n",
        "  nameOfData=Add_data_To_list(directory)\n",
        "  #make labels\n",
        "  labels=set([name_after_split.split('_')[0]for name_after_split in nameOfData])\n",
        "  #make subfolders\n",
        "  for label in labels:\n",
        "    os.mkdir(f'{directory}/{label}')\n",
        "  for iter in nameOfData:\n",
        "    label=iter.split('_')[0]\n",
        "    shutil.move(f'{directory}/{iter}',f'{directory}/{label}/{iter}')"
      ],
      "metadata": {
        "id": "IyPynurAUomG"
      },
      "execution_count": null,
      "outputs": []
    },
    {
      "cell_type": "markdown",
      "source": [
        "***Genrate Images***\n",
        "\n",
        "\n",
        "\n",
        "---\n",
        "\n",
        "\n",
        "\n",
        "\n",
        "\n",
        "\n",
        "\n",
        "\n",
        "\n"
      ],
      "metadata": {
        "id": "K3ZZb3Cc1k0t"
      }
    },
    {
      "cell_type": "code",
      "source": [
        "def genrator(path_file_folder,number_to_stop,name_of_prefix):\n",
        "  data_genrator=ImageDataGenerator(\n",
        "    rotation_range=90,\n",
        "    width_shift_range=0.1,\n",
        "    height_shift_range=0.1,\n",
        "    shear_range=0.5,\n",
        "    zoom_range=0.5,\n",
        "    horizontal_flip=True,\n",
        "    fill_mode='constant'\n",
        "    )\n",
        "  from keras.utils.image_utils import load_img\n",
        "  for image in os.listdir(path_file_folder):\n",
        "    path_image=os.path.join(path_file_folder,image)\n",
        "    img=load_img(path_image)\n",
        "    x=img_to_array(img)\n",
        "    x=x.reshape((1,)+x.shape)\n",
        "    iterator=data_genrator.flow(x,batch_size=1,save_to_dir=path_file_folder,save_prefix=name_of_prefix,save_format='png')\n",
        "    stop_creating=0\n",
        "    for iter in iterator:\n",
        "      stop_creating=stop_creating+1\n",
        "      if (stop_creating>number_to_stop):\n",
        "        break\n",
        "\n",
        "  \n",
        "  \n"
      ],
      "metadata": {
        "id": "91gstfsgPl_-"
      },
      "execution_count": null,
      "outputs": []
    },
    {
      "cell_type": "code",
      "source": [
        "#genrator('/content/gdrive/MyDrive/NewTrain/Yoga',3,'Yoga')"
      ],
      "metadata": {
        "id": "KWDZL_C6TbmB"
      },
      "execution_count": null,
      "outputs": []
    }
  ],
  "metadata": {
    "colab": {
      "provenance": [],
      "toc_visible": true
    },
    "kernelspec": {
      "display_name": "Python 3",
      "name": "python3"
    },
    "language_info": {
      "name": "python"
    },
    "accelerator": "GPU",
    "gpuClass": "standard"
  },
  "nbformat": 4,
  "nbformat_minor": 0
}